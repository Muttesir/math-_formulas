{
 "cells": [
  {
   "cell_type": "code",
   "execution_count": 9,
   "metadata": {},
   "outputs": [
    {
     "name": "stdout",
     "output_type": "stream",
     "text": [
      "a  and be equal \n"
     ]
    }
   ],
   "source": [
    "a=5\n",
    "b=5\n",
    "if a>b:\n",
    "    print(' a is bigger than b')\n",
    "elif a==b:\n",
    "    print('a  and b equal ')\n",
    "else:\n",
    "    print('b is bigger than a')\n"
   ]
  },
  {
   "cell_type": "code",
   "execution_count": 25,
   "metadata": {},
   "outputs": [
    {
     "name": "stdin",
     "output_type": "stream",
     "text": [
      "enter name : Muttesir\n",
      "enter age  32\n",
      "Country name  Turkey\n"
     ]
    },
    {
     "name": "stdout",
     "output_type": "stream",
     "text": [
      "You are Not eligible for vote\n"
     ]
    }
   ],
   "source": [
    "name=input('enter name :')\n",
    "age=int(input('enter age '))\n",
    "country=input('Country name ')\n",
    "if age>=18 and country == 'UK' :\n",
    "    status='Eligible'\n",
    "else:\n",
    "    status='Not eligible'\n",
    "\n",
    "print('You are', status, 'for vote')\n"
   ]
  },
  {
   "cell_type": "code",
   "execution_count": null,
   "metadata": {},
   "outputs": [],
   "source": []
  }
 ],
 "metadata": {
  "kernelspec": {
   "display_name": "Python 3",
   "language": "python",
   "name": "python3"
  },
  "language_info": {
   "codemirror_mode": {
    "name": "ipython",
    "version": 3
   },
   "file_extension": ".py",
   "mimetype": "text/x-python",
   "name": "python",
   "nbconvert_exporter": "python",
   "pygments_lexer": "ipython3",
   "version": "3.7.6"
  }
 },
 "nbformat": 4,
 "nbformat_minor": 4
}
