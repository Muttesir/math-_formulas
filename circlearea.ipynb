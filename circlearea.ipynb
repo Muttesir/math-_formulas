{
 "cells": [
  {
   "cell_type": "code",
   "execution_count": 2,
   "metadata": {},
   "outputs": [
    {
     "name": "stdin",
     "output_type": "stream",
     "text": [
      "radius : 14\n"
     ]
    },
    {
     "name": "stdout",
     "output_type": "stream",
     "text": [
      "Area of circle is: 615.7521601035994\n",
      "Perimeter of Circle is:  87.96459430051421\n"
     ]
    }
   ],
   "source": [
    "import math \n",
    "r=float(input('radius :'))\n",
    "area=math.pi*r*r\n",
    "perimeter=math.pi*2*r\n",
    "print('Area of circle is:',(area))\n",
    "print(\"Perimeter of Circle is: \",(perimeter))"
   ]
  },
  {
   "cell_type": "code",
   "execution_count": null,
   "metadata": {},
   "outputs": [],
   "source": []
  }
 ],
 "metadata": {
  "kernelspec": {
   "display_name": "Python 3",
   "language": "python",
   "name": "python3"
  },
  "language_info": {
   "codemirror_mode": {
    "name": "ipython",
    "version": 3
   },
   "file_extension": ".py",
   "mimetype": "text/x-python",
   "name": "python",
   "nbconvert_exporter": "python",
   "pygments_lexer": "ipython3",
   "version": "3.7.6"
  }
 },
 "nbformat": 4,
 "nbformat_minor": 4
}
