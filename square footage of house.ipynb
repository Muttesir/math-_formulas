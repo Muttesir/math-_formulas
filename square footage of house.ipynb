{
 "cells": [
  {
   "cell_type": "code",
   "execution_count": 2,
   "metadata": {},
   "outputs": [
    {
     "name": "stdin",
     "output_type": "stream",
     "text": [
      "width of first room: 5\n",
      "length of first room: 6\n"
     ]
    },
    {
     "name": "stdout",
     "output_type": "stream",
     "text": [
      "square footage of first room is: 30\n"
     ]
    },
    {
     "name": "stdin",
     "output_type": "stream",
     "text": [
      "width of second room: 4\n",
      "length of second room: 3\n"
     ]
    },
    {
     "name": "stdout",
     "output_type": "stream",
     "text": [
      "square footage of second room is: 12\n"
     ]
    },
    {
     "name": "stdin",
     "output_type": "stream",
     "text": [
      "width of third room is: 3\n",
      "length of third room is: 3\n"
     ]
    },
    {
     "name": "stdout",
     "output_type": "stream",
     "text": [
      "square footage of second room is: 9\n"
     ]
    },
    {
     "name": "stdin",
     "output_type": "stream",
     "text": [
      "width of fourth room is: 2\n",
      "length of fourth room is: 4\n"
     ]
    },
    {
     "name": "stdout",
     "output_type": "stream",
     "text": [
      "square footage of second room is: 8\n"
     ]
    }
   ],
   "source": [
    "width1=float(input('width of first room:'))\n",
    "length1=float(input('length of first room:'))\n",
    "square_footage1=width1*length1\n",
    "print('square footage of first room is:',round(square_footage1))\n",
    "\n",
    "width2=float(input('width of second room:'))\n",
    "length2=float(input('length of second room:'))\n",
    "square_footage2=width2*length2\n",
    "print('square footage of second room is:',round(square_footage2))\n",
    "\n",
    "\n",
    "width3=float(input('width of third room is:'))\n",
    "length3=float(input('length of third room is:'))\n",
    "square_footage3=width3*length3\n",
    "print('square footage of second room is:',round(square_footage3))\n",
    "\n",
    "\n",
    "width4=float(input('width of fourth room is:'))\n",
    "length4=float(input('length of fourth room is:'))\n",
    "square_footage4=width4*length4\n",
    "print('square footage of second room is:',round(square_footage4))\n"
   ]
  },
  {
   "cell_type": "code",
   "execution_count": 5,
   "metadata": {},
   "outputs": [
    {
     "name": "stdout",
     "output_type": "stream",
     "text": [
      "Square footage of entire home is: 59\n"
     ]
    }
   ],
   "source": [
    "entire_home=square_footage1+square_footage2+square_footage3+square_footage4\n",
    "print('Square footage of entire home is:',round(entire_home))"
   ]
  },
  {
   "cell_type": "code",
   "execution_count": 7,
   "metadata": {},
   "outputs": [
    {
     "name": "stdin",
     "output_type": "stream",
     "text": [
      "height of house is: 2.5\n"
     ]
    },
    {
     "name": "stdout",
     "output_type": "stream",
     "text": [
      "The volume of a cuboid is 148\n"
     ]
    }
   ],
   "source": [
    "height=float(input('height of house is:'))\n",
    "cuboid=entire_home*height\n",
    "print('The volume of a cuboid is',round(cuboid))\n"
   ]
  },
  {
   "cell_type": "code",
   "execution_count": null,
   "metadata": {},
   "outputs": [],
   "source": []
  }
 ],
 "metadata": {
  "kernelspec": {
   "display_name": "Python 3",
   "language": "python",
   "name": "python3"
  },
  "language_info": {
   "codemirror_mode": {
    "name": "ipython",
    "version": 3
   },
   "file_extension": ".py",
   "mimetype": "text/x-python",
   "name": "python",
   "nbconvert_exporter": "python",
   "pygments_lexer": "ipython3",
   "version": "3.7.6"
  }
 },
 "nbformat": 4,
 "nbformat_minor": 4
}
